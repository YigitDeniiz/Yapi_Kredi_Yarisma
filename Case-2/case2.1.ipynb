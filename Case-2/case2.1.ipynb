{
 "cells": [
  {
   "cell_type": "markdown",
   "metadata": {},
   "source": [
    "#### Case-1"
   ]
  },
  {
   "cell_type": "code",
   "execution_count": 47,
   "metadata": {},
   "outputs": [],
   "source": [
    "import pandas as pd"
   ]
  },
  {
   "cell_type": "code",
   "execution_count": 48,
   "metadata": {},
   "outputs": [],
   "source": [
    "overall_survival = pd.read_csv(\"Overall Survival.csv\")\n",
    "progression_free_survival = pd.read_csv(\"Progression-Free Survival.csv\")"
   ]
  },
  {
   "cell_type": "code",
   "execution_count": 49,
   "metadata": {},
   "outputs": [
    {
     "name": "stdout",
     "output_type": "stream",
     "text": [
      "<class 'pandas.core.frame.DataFrame'>\n",
      "RangeIndex: 42 entries, 0 to 41\n",
      "Data columns (total 3 columns):\n",
      " #   Column                 Non-Null Count  Dtype \n",
      "---  ------                 --------------  ----- \n",
      " 0   0                      42 non-null     int64 \n",
      " 1   23853158174467604; 99  42 non-null     object\n",
      " 2   8370447638426          42 non-null     int64 \n",
      "dtypes: int64(2), object(1)\n",
      "memory usage: 1.1+ KB\n"
     ]
    }
   ],
   "source": [
    "overall_survival.info()"
   ]
  },
  {
   "cell_type": "code",
   "execution_count": 50,
   "metadata": {},
   "outputs": [
    {
     "data": {
      "text/html": [
       "<div>\n",
       "<style scoped>\n",
       "    .dataframe tbody tr th:only-of-type {\n",
       "        vertical-align: middle;\n",
       "    }\n",
       "\n",
       "    .dataframe tbody tr th {\n",
       "        vertical-align: top;\n",
       "    }\n",
       "\n",
       "    .dataframe thead th {\n",
       "        text-align: right;\n",
       "    }\n",
       "</style>\n",
       "<table border=\"1\" class=\"dataframe\">\n",
       "  <thead>\n",
       "    <tr style=\"text-align: right;\">\n",
       "      <th></th>\n",
       "      <th>0</th>\n",
       "      <th>23853158174467604; 99</th>\n",
       "      <th>8370447638426</th>\n",
       "    </tr>\n",
       "  </thead>\n",
       "  <tbody>\n",
       "    <tr>\n",
       "      <th>0</th>\n",
       "      <td>0</td>\n",
       "      <td>5995202931376373; 99</td>\n",
       "      <td>64229213231187</td>\n",
       "    </tr>\n",
       "    <tr>\n",
       "      <th>1</th>\n",
       "      <td>0</td>\n",
       "      <td>9277386780484895; 99</td>\n",
       "      <td>35311460935878</td>\n",
       "    </tr>\n",
       "    <tr>\n",
       "      <th>2</th>\n",
       "      <td>1</td>\n",
       "      <td>3545335819355926; 98</td>\n",
       "      <td>71139210846208</td>\n",
       "    </tr>\n",
       "    <tr>\n",
       "      <th>3</th>\n",
       "      <td>1</td>\n",
       "      <td>7683851847924843; 97</td>\n",
       "      <td>63722442047059</td>\n",
       "    </tr>\n",
       "    <tr>\n",
       "      <th>4</th>\n",
       "      <td>2</td>\n",
       "      <td>1683762448138757; 96</td>\n",
       "      <td>58109273296022</td>\n",
       "    </tr>\n",
       "  </tbody>\n",
       "</table>\n",
       "</div>"
      ],
      "text/plain": [
       "   0 23853158174467604; 99   8370447638426\n",
       "0  0  5995202931376373; 99  64229213231187\n",
       "1  0  9277386780484895; 99  35311460935878\n",
       "2  1  3545335819355926; 98  71139210846208\n",
       "3  1  7683851847924843; 97  63722442047059\n",
       "4  2  1683762448138757; 96  58109273296022"
      ]
     },
     "execution_count": 50,
     "metadata": {},
     "output_type": "execute_result"
    }
   ],
   "source": [
    "overall_survival.head()"
   ]
  },
  {
   "cell_type": "code",
   "execution_count": 51,
   "metadata": {},
   "outputs": [
    {
     "data": {
      "text/html": [
       "<div>\n",
       "<style scoped>\n",
       "    .dataframe tbody tr th:only-of-type {\n",
       "        vertical-align: middle;\n",
       "    }\n",
       "\n",
       "    .dataframe tbody tr th {\n",
       "        vertical-align: top;\n",
       "    }\n",
       "\n",
       "    .dataframe thead th {\n",
       "        text-align: right;\n",
       "    }\n",
       "</style>\n",
       "<table border=\"1\" class=\"dataframe\">\n",
       "  <thead>\n",
       "    <tr style=\"text-align: right;\">\n",
       "      <th></th>\n",
       "      <th>time</th>\n",
       "      <th>SurvivalProbability</th>\n",
       "    </tr>\n",
       "  </thead>\n",
       "  <tbody>\n",
       "    <tr>\n",
       "      <th>0</th>\n",
       "      <td>1.0</td>\n",
       "      <td>99.235333</td>\n",
       "    </tr>\n",
       "    <tr>\n",
       "      <th>1</th>\n",
       "      <td>2.0</td>\n",
       "      <td>97.109000</td>\n",
       "    </tr>\n",
       "    <tr>\n",
       "      <th>2</th>\n",
       "      <td>3.0</td>\n",
       "      <td>94.871333</td>\n",
       "    </tr>\n",
       "    <tr>\n",
       "      <th>3</th>\n",
       "      <td>4.0</td>\n",
       "      <td>90.866000</td>\n",
       "    </tr>\n",
       "    <tr>\n",
       "      <th>4</th>\n",
       "      <td>5.0</td>\n",
       "      <td>88.994500</td>\n",
       "    </tr>\n",
       "  </tbody>\n",
       "</table>\n",
       "</div>"
      ],
      "text/plain": [
       "   time  SurvivalProbability\n",
       "0   1.0            99.235333\n",
       "1   2.0            97.109000\n",
       "2   3.0            94.871333\n",
       "3   4.0            90.866000\n",
       "4   5.0            88.994500"
      ]
     },
     "execution_count": 51,
     "metadata": {},
     "output_type": "execute_result"
    }
   ],
   "source": [
    "overall_survival[\"column0\"] = overall_survival[\"0\"]\n",
    "overall_survival[['column1', 'column2']] = overall_survival['23853158174467604; 99'].str.split('; ', expand=True)\n",
    "overall_survival[\"column3\"] = overall_survival[\"8370447638426\"]\n",
    "\n",
    "columns_to_drop = [\"0\",\"23853158174467604; 99\",\"8370447638426\"]\n",
    "overall_survival.drop(columns_to_drop,axis=1,inplace=True)\n",
    "\n",
    "overall_survival[\"column3\"] = overall_survival[\"column3\"]/100000000000\n",
    "overall_survival[\"column3\"] = overall_survival[\"column3\"].astype(int).astype(str)\n",
    "\n",
    "overall_survival[\"time\"] = overall_survival[\"column0\"].astype(str)+\".\"+overall_survival[\"column1\"].astype(str)\n",
    "overall_survival.drop([\"column0\",\"column1\"],axis=1,inplace=True)\n",
    "\n",
    "overall_survival[\"SurvivalProbability\"] = overall_survival[\"column2\"]+\".\"+overall_survival[\"column3\"]\n",
    "overall_survival.drop([\"column2\",\"column3\"],axis=1,inplace=True)\n",
    "\n",
    "overall_survival['time'] = overall_survival['time'].astype(float).round()\n",
    "\n",
    "overall_survival[\"SurvivalProbability\"] =overall_survival[\"SurvivalProbability\"].astype(float).round(3)\n",
    "overall_survival = overall_survival.groupby(\"time\")[\"SurvivalProbability\"].mean().reset_index()\n",
    "overall_survival.head()"
   ]
  },
  {
   "cell_type": "code",
   "execution_count": 52,
   "metadata": {},
   "outputs": [
    {
     "name": "stdout",
     "output_type": "stream",
     "text": [
      "<class 'pandas.core.frame.DataFrame'>\n",
      "RangeIndex: 54 entries, 0 to 53\n",
      "Data columns (total 3 columns):\n",
      " #   Column                  Non-Null Count  Dtype \n",
      "---  ------                  --------------  ----- \n",
      " 0   0                       54 non-null     int64 \n",
      " 1   14050335838046513; 100  54 non-null     object\n",
      " 2   04228569985989          54 non-null     int64 \n",
      "dtypes: int64(2), object(1)\n",
      "memory usage: 1.4+ KB\n"
     ]
    }
   ],
   "source": [
    "progression_free_survival.info()"
   ]
  },
  {
   "cell_type": "code",
   "execution_count": 53,
   "metadata": {},
   "outputs": [
    {
     "data": {
      "text/html": [
       "<div>\n",
       "<style scoped>\n",
       "    .dataframe tbody tr th:only-of-type {\n",
       "        vertical-align: middle;\n",
       "    }\n",
       "\n",
       "    .dataframe tbody tr th {\n",
       "        vertical-align: top;\n",
       "    }\n",
       "\n",
       "    .dataframe thead th {\n",
       "        text-align: right;\n",
       "    }\n",
       "</style>\n",
       "<table border=\"1\" class=\"dataframe\">\n",
       "  <thead>\n",
       "    <tr style=\"text-align: right;\">\n",
       "      <th></th>\n",
       "      <th>0</th>\n",
       "      <th>14050335838046513; 100</th>\n",
       "      <th>04228569985989</th>\n",
       "    </tr>\n",
       "  </thead>\n",
       "  <tbody>\n",
       "    <tr>\n",
       "      <th>0</th>\n",
       "      <td>0</td>\n",
       "      <td>5682212882868765; 99</td>\n",
       "      <td>82151647880035</td>\n",
       "    </tr>\n",
       "    <tr>\n",
       "      <th>1</th>\n",
       "      <td>0</td>\n",
       "      <td>8530837466207615; 98</td>\n",
       "      <td>97857945293664</td>\n",
       "    </tr>\n",
       "    <tr>\n",
       "      <th>2</th>\n",
       "      <td>1</td>\n",
       "      <td>1829419051901349; 97</td>\n",
       "      <td>2061538315893</td>\n",
       "    </tr>\n",
       "    <tr>\n",
       "      <th>3</th>\n",
       "      <td>1</td>\n",
       "      <td>4500336038160886; 95</td>\n",
       "      <td>92795021647754</td>\n",
       "    </tr>\n",
       "    <tr>\n",
       "      <th>4</th>\n",
       "      <td>1</td>\n",
       "      <td>786824964294984; 94</td>\n",
       "      <td>50633023238201</td>\n",
       "    </tr>\n",
       "  </tbody>\n",
       "</table>\n",
       "</div>"
      ],
      "text/plain": [
       "   0 14050335838046513; 100  04228569985989\n",
       "0  0   5682212882868765; 99  82151647880035\n",
       "1  0   8530837466207615; 98  97857945293664\n",
       "2  1   1829419051901349; 97   2061538315893\n",
       "3  1   4500336038160886; 95  92795021647754\n",
       "4  1    786824964294984; 94  50633023238201"
      ]
     },
     "execution_count": 53,
     "metadata": {},
     "output_type": "execute_result"
    }
   ],
   "source": [
    "progression_free_survival.head()"
   ]
  },
  {
   "cell_type": "code",
   "execution_count": 54,
   "metadata": {},
   "outputs": [
    {
     "data": {
      "text/html": [
       "<div>\n",
       "<style scoped>\n",
       "    .dataframe tbody tr th:only-of-type {\n",
       "        vertical-align: middle;\n",
       "    }\n",
       "\n",
       "    .dataframe tbody tr th {\n",
       "        vertical-align: top;\n",
       "    }\n",
       "\n",
       "    .dataframe thead th {\n",
       "        text-align: right;\n",
       "    }\n",
       "</style>\n",
       "<table border=\"1\" class=\"dataframe\">\n",
       "  <thead>\n",
       "    <tr style=\"text-align: right;\">\n",
       "      <th></th>\n",
       "      <th>time</th>\n",
       "      <th>SurvivalProbability</th>\n",
       "    </tr>\n",
       "  </thead>\n",
       "  <tbody>\n",
       "    <tr>\n",
       "      <th>0</th>\n",
       "      <td>1.0</td>\n",
       "      <td>97.98150</td>\n",
       "    </tr>\n",
       "    <tr>\n",
       "      <th>1</th>\n",
       "      <td>2.0</td>\n",
       "      <td>93.55500</td>\n",
       "    </tr>\n",
       "    <tr>\n",
       "      <th>2</th>\n",
       "      <td>3.0</td>\n",
       "      <td>88.55275</td>\n",
       "    </tr>\n",
       "    <tr>\n",
       "      <th>3</th>\n",
       "      <td>4.0</td>\n",
       "      <td>82.09600</td>\n",
       "    </tr>\n",
       "    <tr>\n",
       "      <th>4</th>\n",
       "      <td>5.0</td>\n",
       "      <td>77.51650</td>\n",
       "    </tr>\n",
       "  </tbody>\n",
       "</table>\n",
       "</div>"
      ],
      "text/plain": [
       "   time  SurvivalProbability\n",
       "0   1.0             97.98150\n",
       "1   2.0             93.55500\n",
       "2   3.0             88.55275\n",
       "3   4.0             82.09600\n",
       "4   5.0             77.51650"
      ]
     },
     "execution_count": 54,
     "metadata": {},
     "output_type": "execute_result"
    }
   ],
   "source": [
    "progression_free_survival[\"column0\"] = progression_free_survival[\"0\"]\n",
    "progression_free_survival[['column1', 'column2']] = progression_free_survival['14050335838046513; 100'].str.split('; ', expand=True)\n",
    "progression_free_survival[\"column3\"] = progression_free_survival[\"04228569985989\"]\n",
    "\n",
    "columns_to_drop = [\"0\",\"14050335838046513; 100\",\"04228569985989\"]\n",
    "progression_free_survival.drop(columns_to_drop,axis=1,inplace=True)\n",
    "\n",
    "progression_free_survival[\"column3\"] = progression_free_survival[\"column3\"]/100000000000\n",
    "progression_free_survival[\"column3\"] = progression_free_survival[\"column3\"].astype(int).astype(str)\n",
    "\n",
    "progression_free_survival[\"time\"] = progression_free_survival[\"column0\"].astype(str)+\".\"+progression_free_survival[\"column1\"].astype(str)\n",
    "progression_free_survival.drop([\"column0\",\"column1\"],axis=1,inplace=True)\n",
    "\n",
    "progression_free_survival[\"SurvivalProbability\"] = progression_free_survival[\"column2\"]+\".\"+progression_free_survival[\"column3\"]\n",
    "progression_free_survival.drop([\"column2\",\"column3\"],axis=1,inplace=True)\n",
    "\n",
    "progression_free_survival['time'] = progression_free_survival['time'].astype(float).round()\n",
    "\n",
    "progression_free_survival[\"SurvivalProbability\"] = progression_free_survival[\"SurvivalProbability\"].astype(float).round(3)\n",
    "progression_free_survival = progression_free_survival.groupby(\"time\")[\"SurvivalProbability\"].mean().reset_index()\n",
    "progression_free_survival.head()"
   ]
  },
  {
   "cell_type": "code",
   "execution_count": 55,
   "metadata": {},
   "outputs": [],
   "source": [
    "progression_free_survival.to_csv(\"final_progression.csv\",index=False)\n",
    "overall_survival.to_csv(\"final_overall.csv\",index=False)"
   ]
  },
  {
   "cell_type": "markdown",
   "metadata": {},
   "source": [
    "#### Case-2"
   ]
  },
  {
   "cell_type": "markdown",
   "metadata": {},
   "source": [
    "##### Q1"
   ]
  },
  {
   "cell_type": "code",
   "execution_count": 56,
   "metadata": {},
   "outputs": [],
   "source": [
    "import numpy as np\n",
    "prob_1 = progression_free_survival[\"SurvivalProbability\"].values\n",
    "prob_2 = overall_survival[\"SurvivalProbability\"].values\n",
    "\n",
    "event_1 = []\n",
    "event_2 = []\n",
    "\n",
    "for i in range(len(progression_free_survival)):\n",
    "    random_number = np.random.randint(0, 101)\n",
    "    if random_number >= prob_1[i]:\n",
    "        event_1.append(0)\n",
    "        event_2.append(0)\n",
    "    else:\n",
    "        event_1.append(1)\n",
    "        event_2.append(1)"
   ]
  },
  {
   "cell_type": "code",
   "execution_count": 57,
   "metadata": {},
   "outputs": [],
   "source": [
    "data = {\n",
    "    \"OverallSurvivalTime\":np.arange(1, 15),\n",
    "    'OverallSurvivalEvent':event_1,\n",
    "    'ProgressionFreeSurvivalTime': np.arange(1, 15),\n",
    "    'ProgressionFreeSurvivalEvent':event_2,\n",
    "}"
   ]
  },
  {
   "cell_type": "code",
   "execution_count": 58,
   "metadata": {},
   "outputs": [
    {
     "name": "stdout",
     "output_type": "stream",
     "text": [
      "Individual patient-level data for overall survival:\n",
      "    Time  Event\n",
      "0      1      1\n",
      "1      2      1\n",
      "2      3      1\n",
      "3      4      1\n",
      "4      5      1\n",
      "5      6      0\n",
      "6      7      0\n",
      "7      8      1\n",
      "8      9      0\n",
      "9     10      0\n",
      "10    11      0\n",
      "11    12      0\n",
      "12    13      0\n",
      "13    14      0\n",
      "\n",
      "Individual patient-level data for progression-free survival:\n",
      "    Time  Event\n",
      "0      1      1\n",
      "1      2      1\n",
      "2      3      1\n",
      "3      4      1\n",
      "4      5      1\n",
      "5      6      0\n",
      "6      7      0\n",
      "7      8      1\n",
      "8      9      0\n",
      "9     10      0\n",
      "10    11      0\n",
      "11    12      0\n",
      "12    13      0\n",
      "13    14      0\n"
     ]
    }
   ],
   "source": [
    "from lifelines import KaplanMeierFitter\n",
    "\n",
    "individual_data = pd.DataFrame()\n",
    "\n",
    "df = pd.DataFrame(data)\n",
    "\n",
    "def generate_km_data(event_times, event_types):\n",
    "    km_data = pd.DataFrame(columns=['Time', 'Event'])\n",
    "    km_data['Time'] = sorted(event_times)\n",
    "    km_data['Event'] = [1 if event == 1 else 0 for event in event_types]  # Convert event types to 1 for event, 0 for censored\n",
    "    return km_data\n",
    "\n",
    "# Generate individual patient-level data for overall survival\n",
    "overall_survival_km_data = generate_km_data(df['OverallSurvivalTime'], df['OverallSurvivalEvent'])\n",
    "\n",
    "# Generate individual patient-level data for progression-free survival\n",
    "progression_free_survival_km_data = generate_km_data(df['ProgressionFreeSurvivalTime'], df['ProgressionFreeSurvivalEvent'])\n",
    "\n",
    "kmf = KaplanMeierFitter()\n",
    "kmf.fit(overall_survival_km_data['Time'], event_observed=overall_survival_km_data['Event'])\n",
    "kmf.fit(progression_free_survival_km_data['Time'], event_observed=progression_free_survival_km_data['Event'])\n",
    "\n",
    "\n",
    "# Display individual patient-level data\n",
    "print(\"Individual patient-level data for overall survival:\")\n",
    "print(overall_survival_km_data)\n",
    "print(\"\\nIndividual patient-level data for progression-free survival:\")\n",
    "print(progression_free_survival_km_data)"
   ]
  },
  {
   "cell_type": "markdown",
   "metadata": {},
   "source": [
    "##### Q2"
   ]
  },
  {
   "cell_type": "code",
   "execution_count": 67,
   "metadata": {},
   "outputs": [
    {
     "name": "stdout",
     "output_type": "stream",
     "text": [
      "Weibull AIC: 42.31330756980215\n",
      "Log-Logistic AIC: 43.898232845130636\n",
      "Exponential AIC: 59.192300935643004\n"
     ]
    }
   ],
   "source": [
    "from lifelines import WeibullFitter, LogLogisticFitter, ExponentialFitter\n",
    "\n",
    "survival_times = np.arange(1,15)\n",
    "censoring_indicators = progression_free_survival_km_data[\"Event\"]\n",
    "\n",
    "weibull_fitter = WeibullFitter()\n",
    "weibull_fitter.fit(survival_times, event_observed=(1-censoring_indicators))\n",
    "loglogistic_fitter = LogLogisticFitter()\n",
    "loglogistic_fitter.fit(survival_times, event_observed=(1-censoring_indicators))\n",
    "exponential_fitter = ExponentialFitter()\n",
    "exponential_fitter.fit(survival_times, event_observed=(1-censoring_indicators))\n",
    "\n",
    "print(\"Weibull AIC:\", weibull_fitter.AIC_)\n",
    "print(\"Log-Logistic AIC:\", loglogistic_fitter.AIC_)\n",
    "print(\"Exponential AIC:\", exponential_fitter.AIC_)\n",
    "\n",
    "#lower aıc is better in our case we got best results with weibull."
   ]
  },
  {
   "cell_type": "markdown",
   "metadata": {},
   "source": [
    "##### Q3"
   ]
  },
  {
   "cell_type": "code",
   "execution_count": 79,
   "metadata": {},
   "outputs": [
    {
     "name": "stdout",
     "output_type": "stream",
     "text": [
      "   ID  Probability\n",
      "0   0     1.000000\n",
      "1   1     0.951229\n",
      "2   2     0.904837\n",
      "3   3     0.860708\n",
      "4   4     0.818731\n"
     ]
    }
   ],
   "source": [
    "from scipy.stats import weibull_min\n",
    "\n",
    "shape = 0.4 \n",
    "scale = 12\n",
    "\n",
    "time_values = np.arange(0, 251)\n",
    "\n",
    "probabilities = 1 - weibull_min.cdf(time_values, c=shape, scale=scale)\n",
    "\n",
    "data = {'ID': time_values, 'Probability': probabilities}\n",
    "df = pd.DataFrame(data)\n",
    "print(df.head())"
   ]
  },
  {
   "cell_type": "code",
   "execution_count": 80,
   "metadata": {},
   "outputs": [
    {
     "data": {
      "text/plain": [
       "<matplotlib.collections.PathCollection at 0x1907a35f100>"
      ]
     },
     "execution_count": 80,
     "metadata": {},
     "output_type": "execute_result"
    },
    {
     "data": {
      "image/png": "[encoded data removed]",
      "text/plain": [
       "<Figure size 640x480 with 1 Axes>"
      ]
     },
     "metadata": {},
     "output_type": "display_data"
    }
   ],
   "source": [
    "import matplotlib.pyplot as plt\n",
    "plt.scatter(df[\"ID\"],df[\"Probability\"])"
   ]
  },
  {
   "cell_type": "code",
   "execution_count": 81,
   "metadata": {},
   "outputs": [],
   "source": [
    "df.to_csv('sub8.csv', index=False)"
   ]
  }
 ],
 "metadata": {
  "kernelspec": {
   "display_name": "Python 3",
   "language": "python",
   "name": "python3"
  },
  "language_info": {
   "codemirror_mode": {
    "name": "ipython",
    "version": 3
   },
   "file_extension": ".py",
   "mimetype": "text/x-python",
   "name": "python",
   "nbconvert_exporter": "python",
   "pygments_lexer": "ipython3",
   "version": "3.10.4"
  }
 },
 "nbformat": 4,
 "nbformat_minor": 2
}
